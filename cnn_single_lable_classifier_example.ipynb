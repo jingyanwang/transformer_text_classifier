{
 "cells": [
  {
   "cell_type": "code",
   "execution_count": 1,
   "id": "3c734f36",
   "metadata": {},
   "outputs": [],
   "source": [
    "%run cnn_text_classifier.ipynb"
   ]
  },
  {
   "cell_type": "code",
   "execution_count": 2,
   "id": "1063b0e7",
   "metadata": {},
   "outputs": [],
   "source": [
    "SEQ_LENGTH = 128\n",
    "FINETUNING_LEARNING_RATE = 1e-3"
   ]
  },
  {
   "cell_type": "code",
   "execution_count": 3,
   "id": "c1a239ff",
   "metadata": {},
   "outputs": [
    {
     "ename": "ModuleNotFoundError",
     "evalue": "No module named 'pyarrow'",
     "output_type": "error",
     "traceback": [
      "\u001b[1;31m---------------------------------------------------------------------------\u001b[0m",
      "\u001b[1;31mModuleNotFoundError\u001b[0m                       Traceback (most recent call last)",
      "Cell \u001b[1;32mIn[3], line 6\u001b[0m\n\u001b[0;32m      4\u001b[0m \u001b[38;5;28;01mimport\u001b[39;00m \u001b[38;5;21;01mnumpy\u001b[39;00m \u001b[38;5;28;01mas\u001b[39;00m \u001b[38;5;21;01mnp\u001b[39;00m\n\u001b[0;32m      5\u001b[0m \u001b[38;5;28;01mimport\u001b[39;00m \u001b[38;5;21;01mpandas\u001b[39;00m \u001b[38;5;28;01mas\u001b[39;00m \u001b[38;5;21;01mpd\u001b[39;00m\n\u001b[1;32m----> 6\u001b[0m \u001b[38;5;28;01mimport\u001b[39;00m \u001b[38;5;21;01mpyarrow\u001b[39;00m \u001b[38;5;28;01mas\u001b[39;00m \u001b[38;5;21;01mpa\u001b[39;00m\n\u001b[0;32m      7\u001b[0m \u001b[38;5;28;01mimport\u001b[39;00m \u001b[38;5;21;01mpyarrow\u001b[39;00m\u001b[38;5;21;01m.\u001b[39;00m\u001b[38;5;21;01mdataset\u001b[39;00m \u001b[38;5;28;01mas\u001b[39;00m \u001b[38;5;21;01mds\u001b[39;00m\n\u001b[0;32m      8\u001b[0m \u001b[38;5;28;01mimport\u001b[39;00m \u001b[38;5;21;01mtensorflow\u001b[39;00m \u001b[38;5;28;01mas\u001b[39;00m \u001b[38;5;21;01mtf\u001b[39;00m\n",
      "\u001b[1;31mModuleNotFoundError\u001b[0m: No module named 'pyarrow'"
     ]
    }
   ],
   "source": [
    "import os\n",
    "import re\n",
    "import math\n",
    "import numpy as np\n",
    "import pandas as pd\n",
    "import pyarrow as pa\n",
    "import pyarrow.dataset as ds\n",
    "import tensorflow as tf\n",
    "from tensorflow.keras.utils import Sequence\n",
    "from datasets import Dataset"
   ]
  },
  {
   "cell_type": "code",
   "execution_count": null,
   "id": "488d897c",
   "metadata": {},
   "outputs": [],
   "source": [
    "batch_sentences = [\n",
    "    'This is positive',\n",
    "    'This is also positive',\n",
    "    'a test and',\n",
    "    'a test haha',\n",
    "    'a test no',\n",
    "    'a test oh no',\n",
    "    'a test but',\n",
    "    'a test cool',\n",
    "]\n",
    "\n",
    "label = np.array([\n",
    "    [0,1],\n",
    "    [0,1],\n",
    "    [1,0],\n",
    "    [1,0],\n",
    "    [1,0],\n",
    "    [1,0],\n",
    "    [1,0],\n",
    "    [1,0],\n",
    "])"
   ]
  },
  {
   "cell_type": "code",
   "execution_count": null,
   "id": "e18578e9",
   "metadata": {},
   "outputs": [],
   "source": [
    "batch = tokenizer(\n",
    "    batch_sentences, \n",
    "    padding=True, \n",
    "    truncation=False, \n",
    "    return_tensors=\"tf\")\n",
    "\n",
    "input_ids = tf.keras.utils.pad_sequences(\n",
    "    batch['input_ids'],\n",
    "    maxlen=SEQ_LENGTH,\n",
    "    dtype='int32',\n",
    "    padding='post',\n",
    "    truncating='post',\n",
    "    value=0.0\n",
    "    )"
   ]
  },
  {
   "cell_type": "code",
   "execution_count": null,
   "id": "70e6676e",
   "metadata": {},
   "outputs": [],
   "source": [
    "class TextSequence(tf.keras.utils.Sequence):\n",
    "\n",
    "    def __init__(self, x_set, y_set, batch_size):\n",
    "        self.x, self.y = x_set, y_set\n",
    "        self.batch_size = batch_size\n",
    "\n",
    "    def __len__(self):\n",
    "        return math.ceil(len(self.x) / self.batch_size)\n",
    "\n",
    "    def __getitem__(self, idx):\n",
    "        batch_x = self.x[idx * self.batch_size:(idx + 1) *\n",
    "        self.batch_size]\n",
    "        batch_y = self.y[idx * self.batch_size:(idx + 1) *\n",
    "        self.batch_size]\n",
    "\n",
    "        return batch_x, batch_y"
   ]
  },
  {
   "cell_type": "code",
   "execution_count": null,
   "id": "5ee8f0e6",
   "metadata": {},
   "outputs": [],
   "source": [
    "data_sequence = TextSequence(\n",
    "    input_ids,\n",
    "    label,\n",
    "    batch_size = 2\n",
    "    )"
   ]
  },
  {
   "cell_type": "markdown",
   "id": "3aafeae0",
   "metadata": {},
   "source": [
    "# training model "
   ]
  },
  {
   "cell_type": "code",
   "execution_count": null,
   "id": "87974d4f",
   "metadata": {},
   "outputs": [],
   "source": [
    "model = cnn_text_single_label_classifier(\n",
    "    num_label = 2,\n",
    "    seq_length = SEQ_LENGTH,\n",
    "    )"
   ]
  },
  {
   "cell_type": "code",
   "execution_count": null,
   "id": "0e4d2903",
   "metadata": {},
   "outputs": [],
   "source": [
    "model.compile(\n",
    "    loss = tf.keras.losses.CategoricalCrossentropy(),\n",
    "    optimizer=keras.optimizers.Adam(learning_rate=FINETUNING_LEARNING_RATE),\n",
    "    metrics=[    \n",
    "        tf.keras.metrics.AUC(name = 'au-roc',),\n",
    "        tf.keras.metrics.AUC(curve='PR', name = 'au-prc',),\n",
    "        tf.keras.metrics.PrecisionAtRecall(recall = 0.9, name = 'precision'),    \n",
    "    ],\n",
    ")"
   ]
  },
  {
   "cell_type": "code",
   "execution_count": null,
   "id": "77c970d5",
   "metadata": {},
   "outputs": [],
   "source": [
    "model.fit(\n",
    "    data_sequence,\n",
    "    epochs = 200,\n",
    "    batch_size = 8,\n",
    "    shuffle= True,\n",
    "    )"
   ]
  },
  {
   "cell_type": "markdown",
   "id": "0c22aaa9",
   "metadata": {},
   "source": [
    "# end"
   ]
  }
 ],
 "metadata": {
  "kernelspec": {
   "display_name": "Python 3 (ipykernel)",
   "language": "python",
   "name": "python3"
  },
  "language_info": {
   "codemirror_mode": {
    "name": "ipython",
    "version": 3
   },
   "file_extension": ".py",
   "mimetype": "text/x-python",
   "name": "python",
   "nbconvert_exporter": "python",
   "pygments_lexer": "ipython3",
   "version": "3.10.6"
  }
 },
 "nbformat": 4,
 "nbformat_minor": 5
}
