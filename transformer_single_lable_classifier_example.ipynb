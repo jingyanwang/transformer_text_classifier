{
 "cells": [
  {
   "cell_type": "code",
   "execution_count": 1,
   "id": "3c734f36",
   "metadata": {},
   "outputs": [],
   "source": [
    "%run transformer_text_classifier.ipynb"
   ]
  },
  {
   "cell_type": "code",
   "execution_count": 20,
   "id": "1063b0e7",
   "metadata": {},
   "outputs": [],
   "source": [
    "SEQ_LENGTH = 128\n",
    "FINETUNING_LEARNING_RATE = 1e-3"
   ]
  },
  {
   "cell_type": "code",
   "execution_count": 3,
   "id": "c1a239ff",
   "metadata": {},
   "outputs": [],
   "source": [
    "import os\n",
    "import re\n",
    "import math\n",
    "import numpy as np\n",
    "import pandas as pd\n",
    "\n",
    "import tensorflow as tf\n",
    "from tensorflow.keras.utils import Sequence"
   ]
  },
  {
   "cell_type": "code",
   "execution_count": 12,
   "id": "488d897c",
   "metadata": {},
   "outputs": [],
   "source": [
    "batch_sentences = [\n",
    "    'This is positive',\n",
    "    'This is also positive',\n",
    "    'a test and',\n",
    "    'a test haha',\n",
    "    'a test no',\n",
    "    'a test oh no',\n",
    "    'a test but',\n",
    "    'a test cool',\n",
    "]\n",
    "\n",
    "label = np.array([\n",
    "    [0,1],\n",
    "    [0,1],\n",
    "    [1,0],\n",
    "    [1,0],\n",
    "    [1,0],\n",
    "    [1,0],\n",
    "    [1,0],\n",
    "    [1,0],\n",
    "])"
   ]
  },
  {
   "cell_type": "code",
   "execution_count": 13,
   "id": "e18578e9",
   "metadata": {},
   "outputs": [],
   "source": [
    "batch = tokenizer(\n",
    "    batch_sentences, \n",
    "    padding=True, \n",
    "    truncation=False, \n",
    "    return_tensors=\"tf\")\n",
    "\n",
    "input_ids = tf.keras.utils.pad_sequences(\n",
    "    batch['input_ids'],\n",
    "    maxlen=SEQ_LENGTH,\n",
    "    dtype='int32',\n",
    "    padding='post',\n",
    "    truncating='post',\n",
    "    value=0.0\n",
    "    )"
   ]
  },
  {
   "cell_type": "code",
   "execution_count": 14,
   "id": "70e6676e",
   "metadata": {},
   "outputs": [],
   "source": [
    "class TextSequence(tf.keras.utils.Sequence):\n",
    "\n",
    "    def __init__(self, x_set, y_set, batch_size):\n",
    "        self.x, self.y = x_set, y_set\n",
    "        self.batch_size = batch_size\n",
    "\n",
    "    def __len__(self):\n",
    "        return math.ceil(len(self.x) / self.batch_size)\n",
    "\n",
    "    def __getitem__(self, idx):\n",
    "        batch_x = self.x[idx * self.batch_size:(idx + 1) *\n",
    "        self.batch_size]\n",
    "        batch_y = self.y[idx * self.batch_size:(idx + 1) *\n",
    "        self.batch_size]\n",
    "\n",
    "        return batch_x, batch_y"
   ]
  },
  {
   "cell_type": "code",
   "execution_count": 15,
   "id": "5ee8f0e6",
   "metadata": {},
   "outputs": [],
   "source": [
    "data_sequence = TextSequence(\n",
    "    input_ids,\n",
    "    label,\n",
    "    batch_size = 2\n",
    "    )"
   ]
  },
  {
   "cell_type": "markdown",
   "id": "3aafeae0",
   "metadata": {},
   "source": [
    "# training model "
   ]
  },
  {
   "cell_type": "code",
   "execution_count": 21,
   "id": "87974d4f",
   "metadata": {},
   "outputs": [],
   "source": [
    "model = transformer_text_single_label_classifier(\n",
    "    num_label = 2,\n",
    "    seq_length = SEQ_LENGTH,\n",
    "    )"
   ]
  },
  {
   "cell_type": "code",
   "execution_count": 22,
   "id": "0e4d2903",
   "metadata": {},
   "outputs": [],
   "source": [
    "model.compile(\n",
    "    loss = tf.keras.losses.CategoricalCrossentropy(),\n",
    "    optimizer=keras.optimizers.Adam(learning_rate=FINETUNING_LEARNING_RATE),\n",
    "    metrics=[    \n",
    "        tf.keras.metrics.AUC(name = 'au-roc',),\n",
    "        tf.keras.metrics.AUC(curve='PR', name = 'au-prc',),\n",
    "        tf.keras.metrics.PrecisionAtRecall(recall = 0.9, name = 'precision'),    \n",
    "    ],\n",
    ")"
   ]
  },
  {
   "cell_type": "code",
   "execution_count": 23,
   "id": "77c970d5",
   "metadata": {},
   "outputs": [
    {
     "name": "stdout",
     "output_type": "stream",
     "text": [
      "Epoch 1/50\n",
      "4/4 [==============================] - 1s 49ms/step - loss: 14.0569 - au-roc: 0.1875 - au-prc: 0.3422 - precision: 0.5000\n",
      "Epoch 2/50\n",
      "4/4 [==============================] - 0s 53ms/step - loss: 3.8740 - au-roc: 0.1875 - au-prc: 0.3422 - precision: 0.5000\n",
      "Epoch 3/50\n",
      "4/4 [==============================] - 0s 48ms/step - loss: 4.4104 - au-roc: 0.2500 - au-prc: 0.3651 - precision: 0.5000\n",
      "Epoch 4/50\n",
      "4/4 [==============================] - 0s 51ms/step - loss: 2.9136 - au-roc: 0.1875 - au-prc: 0.3422 - precision: 0.5000\n",
      "Epoch 5/50\n",
      "4/4 [==============================] - 0s 49ms/step - loss: 8.1623 - au-roc: 0.3750 - au-prc: 0.4126 - precision: 0.5000\n",
      "Epoch 6/50\n",
      "4/4 [==============================] - 0s 50ms/step - loss: 1.5526 - au-roc: 0.5625 - au-prc: 0.5199 - precision: 0.5000\n",
      "Epoch 7/50\n",
      "4/4 [==============================] - 0s 50ms/step - loss: 2.7956 - au-roc: 0.3125 - au-prc: 0.3891 - precision: 0.5000\n",
      "Epoch 8/50\n",
      "4/4 [==============================] - 0s 47ms/step - loss: 3.5097 - au-roc: 0.2188 - au-prc: 0.3520 - precision: 0.5000\n",
      "Epoch 9/50\n",
      "4/4 [==============================] - 0s 49ms/step - loss: 2.8574 - au-roc: 0.3125 - au-prc: 0.3891 - precision: 0.5000\n",
      "Epoch 10/50\n",
      "4/4 [==============================] - 0s 50ms/step - loss: 1.8772 - au-roc: 0.3125 - au-prc: 0.3891 - precision: 0.5000\n",
      "Epoch 11/50\n",
      "4/4 [==============================] - 0s 50ms/step - loss: 3.1054 - au-roc: 0.0000e+00 - au-prc: 0.3069 - precision: 0.5000\n",
      "Epoch 12/50\n",
      "4/4 [==============================] - 0s 48ms/step - loss: 2.1303 - au-roc: 1.0000 - au-prc: 1.0000 - precision: 1.0000\n",
      "Epoch 13/50\n",
      "4/4 [==============================] - 0s 47ms/step - loss: 1.6096 - au-roc: 0.3125 - au-prc: 0.3891 - precision: 0.5000\n",
      "Epoch 14/50\n",
      "4/4 [==============================] - 0s 48ms/step - loss: 2.0490 - au-roc: 0.1875 - au-prc: 0.3422 - precision: 0.5000\n",
      "Epoch 15/50\n",
      "4/4 [==============================] - 0s 56ms/step - loss: 2.1926 - au-roc: 0.4375 - au-prc: 0.5803 - precision: 0.5714\n",
      "Epoch 16/50\n",
      "4/4 [==============================] - 0s 52ms/step - loss: 1.9956 - au-roc: 0.1875 - au-prc: 0.3422 - precision: 0.5000\n",
      "Epoch 17/50\n",
      "4/4 [==============================] - 0s 49ms/step - loss: 2.1334 - au-roc: 0.0625 - au-prc: 0.3142 - precision: 0.5000\n",
      "Epoch 18/50\n",
      "4/4 [==============================] - 0s 47ms/step - loss: 2.0115 - au-roc: 0.0625 - au-prc: 0.3142 - precision: 0.5000\n",
      "Epoch 19/50\n",
      "4/4 [==============================] - 0s 50ms/step - loss: 1.7630 - au-roc: 0.1875 - au-prc: 0.3422 - precision: 0.5000\n",
      "Epoch 20/50\n",
      "4/4 [==============================] - 0s 52ms/step - loss: 1.7453 - au-roc: 0.2812 - au-prc: 0.3728 - precision: 0.5000\n",
      "Epoch 21/50\n",
      "4/4 [==============================] - 0s 54ms/step - loss: 1.6975 - au-roc: 0.4062 - au-prc: 0.5306 - precision: 0.5333\n",
      "Epoch 22/50\n",
      "4/4 [==============================] - 0s 47ms/step - loss: 1.7355 - au-roc: 0.4219 - au-prc: 0.5497 - precision: 0.5333\n",
      "Epoch 23/50\n",
      "4/4 [==============================] - 0s 48ms/step - loss: 1.9426 - au-roc: 0.1094 - au-prc: 0.3215 - precision: 0.5000\n",
      "Epoch 24/50\n",
      "4/4 [==============================] - 0s 50ms/step - loss: 1.7743 - au-roc: 0.2031 - au-prc: 0.3453 - precision: 0.5000\n",
      "Epoch 25/50\n",
      "4/4 [==============================] - 0s 49ms/step - loss: 1.6780 - au-roc: 0.4375 - au-prc: 0.5803 - precision: 0.5714\n",
      "Epoch 26/50\n",
      "4/4 [==============================] - 0s 49ms/step - loss: 1.6523 - au-roc: 0.4375 - au-prc: 0.5803 - precision: 0.5714\n",
      "Epoch 27/50\n",
      "4/4 [==============================] - 0s 47ms/step - loss: 1.7153 - au-roc: 0.4375 - au-prc: 0.5803 - precision: 0.5714\n",
      "Epoch 28/50\n",
      "4/4 [==============================] - 0s 47ms/step - loss: 1.5119 - au-roc: 0.4375 - au-prc: 0.5803 - precision: 0.5714\n",
      "Epoch 29/50\n",
      "4/4 [==============================] - 0s 49ms/step - loss: 1.7857 - au-roc: 0.3594 - au-prc: 0.4058 - precision: 0.5000\n",
      "Epoch 30/50\n",
      "4/4 [==============================] - 0s 49ms/step - loss: 1.3428 - au-roc: 1.0000 - au-prc: 1.0000 - precision: 1.0000\n",
      "Epoch 31/50\n",
      "4/4 [==============================] - 0s 50ms/step - loss: 0.3314 - au-roc: 1.0000 - au-prc: 1.0000 - precision: 1.0000\n",
      "Epoch 32/50\n",
      "4/4 [==============================] - 0s 48ms/step - loss: 0.0319 - au-roc: 1.0000 - au-prc: 1.0000 - precision: 1.0000\n",
      "Epoch 33/50\n",
      "4/4 [==============================] - 0s 48ms/step - loss: 0.0062 - au-roc: 1.0000 - au-prc: 1.0000 - precision: 1.0000\n",
      "Epoch 34/50\n",
      "4/4 [==============================] - 0s 47ms/step - loss: 0.0010 - au-roc: 1.0000 - au-prc: 1.0000 - precision: 1.0000\n",
      "Epoch 35/50\n",
      "4/4 [==============================] - 0s 48ms/step - loss: 9.7422e-04 - au-roc: 1.0000 - au-prc: 1.0000 - precision: 1.0000\n",
      "Epoch 36/50\n",
      "4/4 [==============================] - 0s 50ms/step - loss: 6.4492e-04 - au-roc: 1.0000 - au-prc: 1.0000 - precision: 1.0000\n",
      "Epoch 37/50\n",
      "4/4 [==============================] - 0s 49ms/step - loss: 4.9939e-04 - au-roc: 1.0000 - au-prc: 1.0000 - precision: 1.0000\n",
      "Epoch 38/50\n",
      "4/4 [==============================] - 0s 49ms/step - loss: 3.2313e-04 - au-roc: 1.0000 - au-prc: 1.0000 - precision: 1.0000\n",
      "Epoch 39/50\n",
      "4/4 [==============================] - 0s 53ms/step - loss: 4.0008e-04 - au-roc: 1.0000 - au-prc: 1.0000 - precision: 1.0000\n",
      "Epoch 40/50\n",
      "4/4 [==============================] - 0s 46ms/step - loss: 2.8721e-04 - au-roc: 1.0000 - au-prc: 1.0000 - precision: 1.0000\n",
      "Epoch 41/50\n",
      "4/4 [==============================] - 0s 49ms/step - loss: 2.6448e-04 - au-roc: 1.0000 - au-prc: 1.0000 - precision: 1.0000\n",
      "Epoch 42/50\n",
      "4/4 [==============================] - 0s 49ms/step - loss: 2.1904e-04 - au-roc: 1.0000 - au-prc: 1.0000 - precision: 1.0000\n",
      "Epoch 43/50\n",
      "4/4 [==============================] - 0s 48ms/step - loss: 2.7979e-04 - au-roc: 1.0000 - au-prc: 1.0000 - precision: 1.0000\n",
      "Epoch 44/50\n",
      "4/4 [==============================] - 0s 48ms/step - loss: 2.5896e-04 - au-roc: 1.0000 - au-prc: 1.0000 - precision: 1.0000\n",
      "Epoch 45/50\n",
      "4/4 [==============================] - 0s 47ms/step - loss: 2.2737e-04 - au-roc: 1.0000 - au-prc: 1.0000 - precision: 1.0000\n",
      "Epoch 46/50\n",
      "4/4 [==============================] - 0s 51ms/step - loss: 2.6110e-04 - au-roc: 1.0000 - au-prc: 1.0000 - precision: 1.0000\n",
      "Epoch 47/50\n",
      "4/4 [==============================] - 0s 48ms/step - loss: 2.7319e-04 - au-roc: 1.0000 - au-prc: 1.0000 - precision: 1.0000\n",
      "Epoch 48/50\n",
      "4/4 [==============================] - 0s 57ms/step - loss: 2.6824e-04 - au-roc: 1.0000 - au-prc: 1.0000 - precision: 1.0000\n",
      "Epoch 49/50\n",
      "4/4 [==============================] - 0s 51ms/step - loss: 2.4489e-04 - au-roc: 1.0000 - au-prc: 1.0000 - precision: 1.0000\n",
      "Epoch 50/50\n",
      "4/4 [==============================] - 0s 50ms/step - loss: 2.6222e-04 - au-roc: 1.0000 - au-prc: 1.0000 - precision: 1.0000\n"
     ]
    },
    {
     "data": {
      "text/plain": [
       "<keras.callbacks.History at 0x2272ec21360>"
      ]
     },
     "execution_count": 23,
     "metadata": {},
     "output_type": "execute_result"
    }
   ],
   "source": [
    "model.fit(\n",
    "    data_sequence,\n",
    "    class_weight = {0:1,1:10},\n",
    "    epochs = 50,\n",
    "    batch_size = 8,\n",
    "    shuffle= True,\n",
    "    )"
   ]
  },
  {
   "cell_type": "markdown",
   "id": "0c22aaa9",
   "metadata": {},
   "source": [
    "# end"
   ]
  }
 ],
 "metadata": {
  "kernelspec": {
   "display_name": "Python 3 (ipykernel)",
   "language": "python",
   "name": "python3"
  },
  "language_info": {
   "codemirror_mode": {
    "name": "ipython",
    "version": 3
   },
   "file_extension": ".py",
   "mimetype": "text/x-python",
   "name": "python",
   "nbconvert_exporter": "python",
   "pygments_lexer": "ipython3",
   "version": "3.10.6"
  }
 },
 "nbformat": 4,
 "nbformat_minor": 5
}
